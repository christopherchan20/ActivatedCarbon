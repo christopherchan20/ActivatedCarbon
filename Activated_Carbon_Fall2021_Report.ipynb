{
  "nbformat": 4,
  "nbformat_minor": 0,
  "metadata": {
    "colab": {
      "name": "Activated_Carbon_Fall2021_Report.ipynb",
      "provenance": [],
      "collapsed_sections": [],
      "include_colab_link": true
    },
    "kernelspec": {
      "name": "python3",
      "display_name": "Python 3"
    }
  },
  "cells": [
    {
      "cell_type": "markdown",
      "metadata": {
        "id": "view-in-github",
        "colab_type": "text"
      },
      "source": [
        "<a href=\"https://colab.research.google.com/github/christopherchan20/ActivatedCarbon/blob/main/Activated_Carbon_Fall2021_Report.ipynb\" target=\"_parent\"><img src=\"https://colab.research.google.com/assets/colab-badge.svg\" alt=\"Open In Colab\"/></a>"
      ]
    },
    {
      "cell_type": "markdown",
      "metadata": {
        "id": "sNv8dIrSCc6X"
      },
      "source": [
        "# AguaClara Research Report & Manual Template\n",
        "#### March 1st, 2020\n",
        "\n",
        "<!-- Template Description -->\n",
        "This template will lay out all possible sections that could be used for a research report and manual. All research reports and manuals should strive to comply with this template, but not all sections will be relevant to all teams. In order to use this template, select **File** -> **Save a Copy** in Drive, then share the copy with your team members and rename it for your team in a format similar to  \"[Team Name] [Semester] [Report x]\".  When you are done with the report, select **File** -> **Save a Copy in Github** and save a copy to your teams Github repo.  Finally, share the link with the graders at aguaclaragraders@gmail.com.\n",
        "\n",
        "For guidance on writing Markdown documents, refer to the [AguaClara Tutorial wiki pages](https://aguaclara.github.io/aguaclara_tutorial/). Once you are ready to write your report, please delete this description and everything above."
      ]
    },
    {
      "cell_type": "markdown",
      "metadata": {
        "id": "TLAmaRBfCmiy"
      },
      "source": [
        "# Activated Carbon, Fall 2021\n",
        "#### Christopher Chan, Samantha Wang, Steven Wu\n",
        "#### 10/21/2021"
      ]
    },
    {
      "cell_type": "markdown",
      "metadata": {
        "id": "BfeU4k7OCphn"
      },
      "source": [
        "## Abstract\n",
        "\n",
        "The Activated Carbon Subteam aims to find if the use of activated carbon would be efficient to use in AguaClara water treatment plants and if so, calculate an optimal dosage of activated carbon. This is the third semester that this team is included as a part of AguaClara's Particle Removal and Dissolved Species Subteams. This semester, the team is aiming to do more research into the incorporation of activated carbon for our system and how effective it is in removing humic acid. In the future, Activated Carbon hopes to ultimately upscale the process so that it can be implemented in AguaClara plants.\n",
        "\n"
      ]
    },
    {
      "cell_type": "markdown",
      "metadata": {
        "id": "EqtwU-gRCrj9"
      },
      "source": [
        "## Introduction\n",
        "Activated Carbon's goal is to find a new and efficient way to implement the use of activated carbon before the flocculation unit process to improve the efficiency of the AguaClara water treatment plants. This research will expand the mission of providing safe water on tap because it is based off of a new design where both powdered activated carbon (PAC), as a filtrant, and polyaluminum chloride (PACl), as a coagulant, would be used to remove particles. The reason that this area is being researched is that coagulant is not very efficient at binding to and removing organic matter in drinking water. Activated carbon is used in many household drinking water filters and fish tank filters to remove harmful organic molecules in the filtration step of the water treatment process and to increase the clarity and potability of the water. If this process is found to be viable, it is important for the process to be scaled up so that it can be used in larger scale plants and not just in the lab setting. If the use of a mixture of activated carbon and polyaluminum chloride is found to be an efficient process, it could revolutionize the efficiency of the AguaClara plants and be used further in other water treatment plants.\n",
        "\n",
        "Activated Carbon is a relatively new subteam, with around half of the Spring 2020 semester as the only time in person lab work has been conducted for this subteam, therefore, there are minimal previous works to build upon. However, in this research, humic acid will be used as a contaminant because humic acid is present within organic compounds that the coagulant typically has difficulty removing. Humic acid also has a brown color and therefore, ultraviolet spectrophotometry in addition to turbidity may be used to determine the clarity of the water. Therefore, the Activated Carbon Subteam is building on the work of the Humic Acid Subteam by using the values of the optimal coagulant dosage that the Humic Acid Subteam had found previously. The values of wavelength of maximum absorbance of humic acid will also be used to construct a calibration curve and use data from a spectrophotometer. The Activated Carbon subteam is essentially expanding upon the work of the Humic Acid  teanm and is trying use a new type of flocculation system to find an optimal coagulant dosage and powdered activated carbon dosage.\n",
        "\n",
        "\n"
      ]
    },
    {
      "cell_type": "markdown",
      "metadata": {
        "id": "FLDOXtNqCtAW"
      },
      "source": [
        "## Literature Review\n",
        "PAC is commonly used in water treatment for the removal of dissolved organic compounds. Applying PAC to a floc blanket reactor (FBR) system that removes atrazine, Campos et. al. conducted experimental trials that measured the steady-state removal of atrazine against different dosages (2mg/l, 4mg/l, and 8mg/l) of PAC. Their results indicated that the dosage of 8mg/l was able to achieve the highest average atrazine removal rate of 93% (Campos et. al. 2000). The effects of carbon dose and hydraulic loading rate on carbon concentration and carbon retention time (CRT) in the floc blanket were also evaluated. As reported, for a PAC dose of 10mg/l, a reduction in the CRT from 25 to 10 hours resulted in an increase in the hydraulic loading rate from 1 to 1.5m/h, which has important engineering implications since this result suggests that a decrease in CRT may reduce PAC absorption efficiency (Campos et. al. 2000). Thus, careful considerations must be made when deciding on process flow rates during experimental trials since varying the residence time in the upflow blanket reactor may result in a less desirable PAC absorption efficiency.\n",
        "In terms of methods of application, PAC is most generally applied in water treatment plants at the rapid mix unit in order to provide enough absorption time as the water flows through the flocculation and sedimentation units. According to a report published by the National Research Council (US) Safe Drinking Water Committee, although PAC has conventionally been used to treat organic compounds that cause offensive taste and odor, large molecules such as humic acid diffuse slowly, and it is very likely that absorption equilibrium cannot be achieved in the available residence time of the carbon (National Research Council 1980). In addition, when PAC is applied to water containing chlorine, the carbon will act as a reducing agent, which will increase the required chlorine to achieve disinfection. These results concern a system that may not involve efficient removal of PAC after the sedimentation unit, thus more research is recommended to determine whether or not a PAC and polyaluminum chloride (PACl) conjoined system is justified.\n",
        "\n",
        "Examining a more recently published article written by Tomaszewska et. al. suggests promising results from a PAC and PACl conjoined system. Jar tests simulating a water treatment system using PAC and PACl (coagulant) to remove humic acid and phenol were conducted with two different methods of process performance: (1) coagulant was added after 60-min adsorption on PAC and (2) coagulant and PAC were added simultaneously. Results suggested that the former method was more desirable: when the adsorption was conducted before coagulation, not only was a more complete removal of phenol achieved, flocs also exhibited a greater surface, which enlarged their settleability (Tomaszewska et. al. 2004). The article concluded that the effectiveness of organics removal by coagulation without the addition of PAC was much lower.\n",
        "\n",
        "## Previous Work\n",
        "\n",
        "As of Spring 2020, Activated Carbon became a new addition to the Dissolved Species Removal Research Teams of AguaClara Cornell. The Activated Carbon subteam was established on the basis that a PAC and PACl conjoined system within upflow blanket reactors (FBRs) could reduce retention time and lead to more efficient removal of dissolved organic compounds within AguaClara’s current water treatment process, producing higher quality water with potentially lower cost. Due to similarities in the nature of experimental work carried by the Activated Carbon and Humic Acid subteams, results and experimental models from previous Humic Acid subteams can be examined and used but with an additional consideration of introducing PAC into the experimental setup.\n",
        "The Fall 2017 and Spring 2018 Humic Acid sub-teams identified optimal coagulant dosages for 5mg/L and 10mg/L HA concentrations (shown in Table 1 below), which could be referenced in testing for the optimal dosage ratios of PAC to coagulant for specific HA concentrations. In addition, the Spring 2018 Humic Acid subteam found that as HA concentration increases, the optimal coagulant dosage drops down slightly. However, the team cannot conclude that increasing HA concentration will decrease the optimal coagulant dosage, as a wider range of HA concentrations should be tested. This suggests that wider ranges of HA concentrations should also be tested for its optimal PAC to PACl dosage ratios for a more comprehensive analysis.\n",
        "\n",
        "**Table 1:** Results from Spring 2018 Humic Acid Team\n",
        "\n",
        "| Humic Acid Concentration (mg/L) | Optimal Coagulant Dosage (mg/L) | \n",
        "| :---: | :---: | \n",
        "| 5 | 1.6-1.8 | \n",
        "| 10 | 1.3 | \n",
        "\n",
        "In the Fall 2019 semester, the Humic Acid team investigated whether it would be possible to form flocs using coagulant only (without the presence of clay to help the particles flocculate better). They found that flocs did in fact form, however, they were too small to form a floc blanket, and thus, the effluent water’s absorbance value was not as low as anticipated. Due to those results, this semester, our team’s goal is to investigate whether activated carbon is a more suitable method of removing humic acid from water that does not have clay.\n",
        "\n",
        "In Spring 2020, the Activated Carbon subteam designed and implemented a set up for experimentation. (Fig. 1 and Fig. 2). \n",
        "\n",
        "\n",
        "   <center>\n",
        "    <img src=\"https://github.com/brensolc/activated_carbon/blob/master/Images/lab%20bench%20set%20up.jpg?raw=true\" height=300>\n",
        "  </center>\n",
        "\n",
        "Figure 1: Experimental Apparatus\n",
        " \n",
        "   <center>\n",
        "    <img src=\"https://github.com/brensolc/activated_carbon/blob/master/Images/Esquema%201.jpeg?raw=true\" height=300>\n",
        "  </center>\n",
        "\n",
        "Figure 2: Diagram of apparatus\n",
        "\n",
        "  <center>\n",
        "    <img src=\"https://github.com/brensolc/activated_carbon/blob/master/Images/experiments.JPG?raw=true\" height=150>\n",
        "  </center>\n",
        "\n",
        "Figure 3: Data Collected from the Activated Carbon Subteam in Spring 2020 \n"
      ]
    },
    {
      "cell_type": "markdown",
      "metadata": {
        "id": "A9c0Dr8rCujT"
      },
      "source": [
        ""
      ]
    },
    {
      "cell_type": "markdown",
      "metadata": {
        "id": "P1KPU32VCw94"
      },
      "source": [
        ""
      ]
    },
    {
      "cell_type": "markdown",
      "metadata": {
        "id": "8WdhCMcNC00a"
      },
      "source": [
        ""
      ]
    },
    {
      "cell_type": "markdown",
      "metadata": {
        "id": "TPiP9gijC3GV"
      },
      "source": [
        ""
      ]
    },
    {
      "cell_type": "markdown",
      "metadata": {
        "id": "4m-fx7GnC6a-"
      },
      "source": [
        ""
      ]
    },
    {
      "cell_type": "markdown",
      "metadata": {
        "id": "QbOeP4KiC7p2"
      },
      "source": [
        ""
      ]
    },
    {
      "cell_type": "markdown",
      "metadata": {
        "id": "fZyCYDraC80B"
      },
      "source": [
        "## Bibliography\n",
        "\n",
        "Campos, C., Snoeyink, V. L., Mariñas, B., Baudin, I., &amp; Lainé, J. (2000). Atrazine removal by powdered activated carbon in floc blanket reactors. Water Research, 34(16), 4070-4080. doi:10.1016/s0043-1354(00)00169-x\n",
        "\n",
        "National Research Council (US) Safe Drinking Water Committee. (1980, January 1). An Evaluation of Activated Carbon for Drinking Water Treatment.\n",
        "\n",
        "Tomaszewska, M., Mozia, S., &amp; Morawski, A. W. (2004). Removal of organic matter by coagulation enhanced with adsorption on pac. Desalination, 161(1), 79-87. doi:10.1016/s0011-9164(04)90042-2\n",
        "\n"
      ]
    },
    {
      "cell_type": "markdown",
      "metadata": {
        "id": "oDYGZ4TkC-H2"
      },
      "source": [
        "# Manual\n"
      ]
    },
    {
      "cell_type": "markdown",
      "metadata": {
        "id": "OH4T3NMQDE84"
      },
      "source": [
        ""
      ]
    },
    {
      "cell_type": "markdown",
      "metadata": {
        "id": "7Nhn0HGZpXsy"
      },
      "source": [
        ""
      ]
    },
    {
      "cell_type": "markdown",
      "metadata": {
        "id": "HCNXi5uiDFsw"
      },
      "source": [
        "## Python Code\n"
      ]
    },
    {
      "cell_type": "markdown",
      "metadata": {
        "id": "NtF6hMF9EkG2"
      },
      "source": [
        "### Code for Figure 3"
      ]
    },
    {
      "cell_type": "code",
      "metadata": {
        "id": "CP_A9n8SDHf1"
      },
      "source": [
        "\n"
      ],
      "execution_count": null,
      "outputs": []
    },
    {
      "cell_type": "code",
      "metadata": {
        "id": "hdUwLFUw7U4s"
      },
      "source": [
        ""
      ],
      "execution_count": null,
      "outputs": []
    }
  ]
}